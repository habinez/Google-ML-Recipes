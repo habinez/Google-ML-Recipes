{
 "cells": [
  {
   "cell_type": "markdown",
   "metadata": {},
   "source": [
    "# Week 0: Environment Set up\n"
   ]
  },
  {
   "cell_type": "markdown",
   "metadata": {},
   "source": [
    "This is a guide for the Machine Learning Recipes with Josh Gordon available on [YouTube](https://www.youtube.com/playlist?list=PLOU2XLYxmsIIuiBfYad6rFYQU_jL2ryal)\n",
    "\n",
    "## Installation \n",
    "The instructor stated that the course is going to be based on two python libraries:  [scikit learn](http://scikit-learn.org/stable/) and [Tensorflow](https://www.tensorflow.org/versions/r0.8/get_started/os_setup.html). The later labrary has currently no easy installation on Windows. We will be using Vagrant to install it windows. We will also be using [iPython Notebook](https://ipython.org/) and [Rodeo IDE](https://www.yhat.com/products/rodeo) to write and execute the code samples, do exercises and write report.\n",
    "\n",
    "The tasks covered in this tutorial are :\n",
    "\n",
    "1. installation of Anaconda and Tensorflow\n",
    "2. Running iPython Notebook\n",
    "\n",
    "### Installation on Ubuntu\n",
    "\n",
    "First let us install miniconda\n",
    "```shell\n",
    "wget http://repo.continuum.io/miniconda/Miniconda3-4.0.5-Linux-x86_64.sh -O ~/miniconda.sh\n",
    "bash ~/miniconda.sh -b -p /home/vagrant/miniconda\n",
    "export PATH=$PATH:/home/vagrant/miniconda/bin\n",
    "chown vagrant /home/vagrant/miniconda\n",
    "echo \"export PATH=$PATH:/home/vagrant/miniconda/bin\" >> /etc/profile\n",
    "echo \"export PATH=$PATH:/home/vagrant/miniconda/bin\" >> /etc/environment\n",
    "```\n",
    "The second part is to install the full version of Anaconda and Tensorflown. Anaconda comes with many data analysis packages including scikit learn. The packages are going to be installed in an environment we are going to call **tensorflow** and we make sure to use python 3.5.\n",
    "\n",
    "```shell\n",
    "conda create -n tensorflow python=3.5 -y\n",
    "alias python=/home/vagrant/miniconda/bin/python3.5\n",
    "echo \"alias python=/home/vagrant/miniconda/bin/python3.5\" >> /etc/profile\n",
    "source activate tensorflow\n",
    "conda install anaconda -y \n",
    "pip install --upgrade https://storage.googleapis.com/tensorflow/linux/cpu/tensorflow-0.8.0rc0-cp27-none-linux_x86_64.whl\n",
    "\n",
    "```\n",
    "\n",
    "Let us install rodeo and pydot\n",
    "\n",
    "```sh\n",
    "pip install rodeo\n",
    "conda install -c https://conda.anaconda.org/anaconda pydot\n",
    "chown vagrant /home/vagrant/miniconda\n",
    "```\n",
    "The entire script is available [here](scripts/install_ubuntu.sh)\n",
    "\n",
    "### Installation of Windows\n",
    "\n",
    "1. [Download and install VirtualBox](https://www.virtualbox.org/wiki/Downloads)\n",
    "2. [Download and install Vagrant](http://www.vagrantup.com/downloads.html).\n",
    "3. Git clone [this project](https://github.com/habinez/Google-ML-Recipes), and change directory (cd) into this project (directory). You can even download the [Vagrantfile](/Vagrantfile) and save it to your directory of choice and create a folder named `shared` in this directory.\n",
    "4. Run ```vagrant up``` to create the VM.\n",
    "5. On your host computer, open your browser and go to [localhost:8001](http://localhost:8001) to view the iPython Notebook Interface. \n",
    "![notebook](imgs/notebook.PNG)\n",
    "\n",
    "6. Open your browser and go to [localhost:5001](http://localhost:5001) to view the Rodeo IDE Interface. \n",
    "![notebook](imgs/rodeo.PNG)\n",
    "\n",
    "7. When you are done using the virtual machine, run `vagrant halt` to shut it down. `vagrant up` will start the virtual machine."
   ]
  },
  {
   "cell_type": "markdown",
   "metadata": {},
   "source": [
    "## Testing scikit learn"
   ]
  },
  {
   "cell_type": "code",
   "execution_count": 1,
   "metadata": {
    "collapsed": false
   },
   "outputs": [
    {
     "name": "stdout",
     "output_type": "stream",
     "text": [
      "[1]\n"
     ]
    }
   ],
   "source": [
    "from sklearn import tree\n",
    "features = [[140, 1], [130, 1], [150, 0], [170, 0]] # Bumpy = 0, Smooth = 1\n",
    "labels = [0, 0, 1, 1] # Apple = 0, Orange = 1\n",
    "clf = tree.DecisionTreeClassifier()\n",
    "clf = clf.fit(features, labels)\n",
    "print (clf.predict([[160, 0]])) #It should print [1]"
   ]
  },
  {
   "cell_type": "markdown",
   "metadata": {},
   "source": [
    "## Homework 0\n",
    "\n",
    "1. Inform yourself more about scikit-learn, Anaconda distribution and Python from this [link](http://blog.kaggle.com/2015/04/15/scikit-learn-video-2-setting-up-python-for-machine-learning/)\n",
    "\n",
    "2. Familiarize yourself with tensorflow and scikit-learn documentation\n",
    "3. Familiarize yourself with Rodeo interface"
   ]
  }
 ],
 "metadata": {
  "kernelspec": {
   "display_name": "Python 3",
   "language": "python",
   "name": "python3"
  },
  "language_info": {
   "codemirror_mode": {
    "name": "ipython",
    "version": 3
   },
   "file_extension": ".py",
   "mimetype": "text/x-python",
   "name": "python",
   "nbconvert_exporter": "python",
   "pygments_lexer": "ipython3",
   "version": "3.5.1"
  }
 },
 "nbformat": 4,
 "nbformat_minor": 0
}
