{
 "cells": [
  {
   "cell_type": "markdown",
   "metadata": {},
   "source": [
    "# Week 1: Hello World\n"
   ]
  },
  {
   "cell_type": "markdown",
   "metadata": {},
   "source": [
    "This is a guide for the Machine Learning Recipes with Josh Gordon available on [YouTube](https://www.youtube.com/playlist?list=PLOU2XLYxmsIIuiBfYad6rFYQU_jL2ryal)\n",
    "\n",
    "\n",
    "We have covered the installation of the anaconda in Week 0. We also wrote the first machine learning code [hello_word.py](script/hello_world.py). One realization is that this course expect you to have the basic experience with python. I think the instructor has chosen python because of how easier it is to learn, its clear synthax and its growing audience expecially in the data science community. You will be surprise to learn how many financial analysts are using python !! If you are not yet comfortable with python, I recommend you reviews Chris Albon's short [tutorials](http://chrisalbon.com/#Python) again.\n",
    "\n",
    "The first step we did in the hello world is to import the tree object from the scikit learn\n",
    "```python\n",
    "from sklearn import tree\n",
    "```\n",
    "The next step was to prepare the data. Each observation is a list of value of each of the features. For the case we had only the weight and texture. He called `features` the list of all the observations (which is a nexted list). Notice that all the elements of this list is a list of exactly two elements, weight and texture. The labels are in the same order as their corresponding explanatory variables. \n",
    "```python\n",
    "features = [[140, 1], [130, 1], [150, 0], [170, 0]] # Bumpy = 0, Smooth = 1\n",
    "labels = [0, 0, 1, 1] # Apple = 0, Orange = 1\n",
    "```\n",
    "The thirst step was to create and instance of decision tree from the tree object. \n",
    "```python\n",
    "clf = tree.DecisionTreeClassifier()\n",
    "```\n",
    "Then fit the data\n",
    "```python\n",
    "clf = clf.fit(features, labels)\n",
    "```\n",
    "This method prect the label for a fruit of 160 gram and bumpy texture. The prediction was an orange !!\n",
    "```python\n",
    "expected_label = clf.predict([[160, 0]])\n",
    "```"
   ]
  },
  {
   "cell_type": "markdown",
   "metadata": {},
   "source": [
    "The instructor explains that this program is intended to **classify** a piece of fruit. We can then say that it is a classification program. Classification is one of the many machine learning algorithms that are used to classify objects from others. Classification is in the category of learning algorithms called **supervised**. In this category there is a response variable for each observation of features (target variables are ofter referred to as labels or classes). For the fruit example, for a given weight and texture of the fruit, there is an associated target variables. JB points out that during supervised learning the classify is trained then used to make the predict future observations. To train the algorithm we feed the *training data* to the algorithm. The traininng data set is made of a list of feature vectors and a list of labels. \n",
    "![test](http://api.ning.com/files/-ByhuHJ6vtKmMhYH1DvoD5L2g5KxyMI4xifmn4lNOAssyWwJg9LS4*aLzWMHmmSKu3pWI5dJjBzhnmcrhJEUeEvaTT-3x07J/01_supervised_learning.png)\n",
    "After the algorithm has been trained, we feed it with the testing data set. The image above explain the process of supervised learning [credit: Kaggle.com]. \n",
    "In order to evaluate the learning of the machine, we compute the level of accuracy or knowledge representation.\n",
    "Other supervised learning algorithms include regression, naive Bayes, support vector machines, decisions trees\n",
    ", ...\n",
    "\n",
    "We can summary the machine learning application process into the folling steps and each of the steps requires some sort of computer programming: \n",
    "\n",
    "1. Collect the data\n",
    "2. Prepare the data to match the format accepted by the classifier\n",
    "3. Analyze the data and split the data into training and testing set\n",
    "4. Train the classifier using the training data set\n",
    "5. Test the classifier and evaluate its level of accuracy. \n",
    "6. Use the classifier. \n",
    "\n",
    "### Question:\n",
    "1. Can you think of the reason that the data has to be split into training and testing sets ? "
   ]
  },
  {
   "cell_type": "code",
   "execution_count": 1,
   "metadata": {
    "collapsed": false
   },
   "outputs": [
    {
     "name": "stdout",
     "output_type": "stream",
     "text": [
      "[1]\n"
     ]
    }
   ],
   "source": [
    "from sklearn import tree\n",
    "features = [[140, 1], [130, 1], [150, 0], [170, 0]] # Bumpy = 0, Smooth = 1\n",
    "labels = [0, 0, 1, 1] # Apple = 0, Orange = 1\n",
    "clf = tree.DecisionTreeClassifier()\n",
    "clf = clf.fit(features, labels)\n",
    "print (clf.predict([[160, 0]])) #It should print [1]"
   ]
  },
  {
   "cell_type": "markdown",
   "metadata": {},
   "source": [
    "## Homework 1\n",
    "\n",
    "The Auto-MPG [data](http://archive.ics.uci.edu/ml/machine-learning-databases/auto-mpg/auto-mpg.names) is used in many machine learning classes around the country. We care going to use this dataset to perform a a decision tree classification. I have created a python data frame and saved it as [cars.pkl](/data/cars.pkl). This is the code I used for the process\n",
    "\n",
    "```python\n",
    "import pandas as pd\n",
    "import rpy2\n",
    "%load_ext rpy2.ipython\n",
    "%%R\n",
    "cars = read.table(\"http://archive.ics.uci.edu/ml/machine-learning-databases/auto-mpg/auto-mpg.data\")\n",
    "colnames(cars) <- c(\"mpg\", \"cylinders\",\"displacement\",\"horsepower\",\"weight\",\"acceleration\",\"model year\",\"origin\", \"car name\")\n",
    "%R -o cars\n",
    "cars.to_pickle('cars.pkl')\n",
    "```\n",
    "\n",
    "Let use load the data in the program and view the first five observations as well as the descriptive statistics of the data.\n",
    "We can see that there are 389 observations."
   ]
  },
  {
   "cell_type": "code",
   "execution_count": 2,
   "metadata": {
    "collapsed": false
   },
   "outputs": [
    {
     "data": {
      "text/html": [
       "<div>\n",
       "<table border=\"1\" class=\"dataframe\">\n",
       "  <thead>\n",
       "    <tr style=\"text-align: right;\">\n",
       "      <th></th>\n",
       "      <th>mpg</th>\n",
       "      <th>cylinders</th>\n",
       "      <th>displacement</th>\n",
       "      <th>horsepower</th>\n",
       "      <th>weight</th>\n",
       "      <th>acceleration</th>\n",
       "      <th>model year</th>\n",
       "      <th>origin</th>\n",
       "      <th>car name</th>\n",
       "    </tr>\n",
       "  </thead>\n",
       "  <tbody>\n",
       "    <tr>\n",
       "      <th>1</th>\n",
       "      <td>18</td>\n",
       "      <td>8</td>\n",
       "      <td>307</td>\n",
       "      <td>130.0</td>\n",
       "      <td>3504</td>\n",
       "      <td>12.0</td>\n",
       "      <td>70</td>\n",
       "      <td>1</td>\n",
       "      <td>chevrolet chevelle malibu</td>\n",
       "    </tr>\n",
       "    <tr>\n",
       "      <th>2</th>\n",
       "      <td>15</td>\n",
       "      <td>8</td>\n",
       "      <td>350</td>\n",
       "      <td>165.0</td>\n",
       "      <td>3693</td>\n",
       "      <td>11.5</td>\n",
       "      <td>70</td>\n",
       "      <td>1</td>\n",
       "      <td>buick skylark 320</td>\n",
       "    </tr>\n",
       "    <tr>\n",
       "      <th>3</th>\n",
       "      <td>18</td>\n",
       "      <td>8</td>\n",
       "      <td>318</td>\n",
       "      <td>150.0</td>\n",
       "      <td>3436</td>\n",
       "      <td>11.0</td>\n",
       "      <td>70</td>\n",
       "      <td>1</td>\n",
       "      <td>plymouth satellite</td>\n",
       "    </tr>\n",
       "    <tr>\n",
       "      <th>4</th>\n",
       "      <td>16</td>\n",
       "      <td>8</td>\n",
       "      <td>304</td>\n",
       "      <td>150.0</td>\n",
       "      <td>3433</td>\n",
       "      <td>12.0</td>\n",
       "      <td>70</td>\n",
       "      <td>1</td>\n",
       "      <td>amc rebel sst</td>\n",
       "    </tr>\n",
       "    <tr>\n",
       "      <th>5</th>\n",
       "      <td>17</td>\n",
       "      <td>8</td>\n",
       "      <td>302</td>\n",
       "      <td>140.0</td>\n",
       "      <td>3449</td>\n",
       "      <td>10.5</td>\n",
       "      <td>70</td>\n",
       "      <td>1</td>\n",
       "      <td>ford torino</td>\n",
       "    </tr>\n",
       "  </tbody>\n",
       "</table>\n",
       "</div>"
      ],
      "text/plain": [
       "   mpg  cylinders  displacement horsepower  weight  acceleration  model year  \\\n",
       "1   18          8           307      130.0    3504          12.0          70   \n",
       "2   15          8           350      165.0    3693          11.5          70   \n",
       "3   18          8           318      150.0    3436          11.0          70   \n",
       "4   16          8           304      150.0    3433          12.0          70   \n",
       "5   17          8           302      140.0    3449          10.5          70   \n",
       "\n",
       "   origin                   car name  \n",
       "1       1  chevrolet chevelle malibu  \n",
       "2       1          buick skylark 320  \n",
       "3       1         plymouth satellite  \n",
       "4       1              amc rebel sst  \n",
       "5       1                ford torino  "
      ]
     },
     "metadata": {},
     "output_type": "display_data"
    },
    {
     "data": {
      "text/html": [
       "<div>\n",
       "<table border=\"1\" class=\"dataframe\">\n",
       "  <thead>\n",
       "    <tr style=\"text-align: right;\">\n",
       "      <th></th>\n",
       "      <th>count</th>\n",
       "      <th>mean</th>\n",
       "      <th>std</th>\n",
       "      <th>min</th>\n",
       "      <th>25%</th>\n",
       "      <th>50%</th>\n",
       "      <th>75%</th>\n",
       "      <th>max</th>\n",
       "    </tr>\n",
       "  </thead>\n",
       "  <tbody>\n",
       "    <tr>\n",
       "      <th>mpg</th>\n",
       "      <td>398</td>\n",
       "      <td>23.514573</td>\n",
       "      <td>7.815984</td>\n",
       "      <td>9</td>\n",
       "      <td>17.500</td>\n",
       "      <td>23.0</td>\n",
       "      <td>29.000</td>\n",
       "      <td>46.6</td>\n",
       "    </tr>\n",
       "    <tr>\n",
       "      <th>cylinders</th>\n",
       "      <td>398</td>\n",
       "      <td>5.454774</td>\n",
       "      <td>1.701004</td>\n",
       "      <td>3</td>\n",
       "      <td>4.000</td>\n",
       "      <td>4.0</td>\n",
       "      <td>8.000</td>\n",
       "      <td>8.0</td>\n",
       "    </tr>\n",
       "    <tr>\n",
       "      <th>displacement</th>\n",
       "      <td>398</td>\n",
       "      <td>193.425879</td>\n",
       "      <td>104.269838</td>\n",
       "      <td>68</td>\n",
       "      <td>104.250</td>\n",
       "      <td>148.5</td>\n",
       "      <td>262.000</td>\n",
       "      <td>455.0</td>\n",
       "    </tr>\n",
       "    <tr>\n",
       "      <th>weight</th>\n",
       "      <td>398</td>\n",
       "      <td>2970.424623</td>\n",
       "      <td>846.841774</td>\n",
       "      <td>1613</td>\n",
       "      <td>2223.750</td>\n",
       "      <td>2803.5</td>\n",
       "      <td>3608.000</td>\n",
       "      <td>5140.0</td>\n",
       "    </tr>\n",
       "    <tr>\n",
       "      <th>acceleration</th>\n",
       "      <td>398</td>\n",
       "      <td>15.568090</td>\n",
       "      <td>2.757689</td>\n",
       "      <td>8</td>\n",
       "      <td>13.825</td>\n",
       "      <td>15.5</td>\n",
       "      <td>17.175</td>\n",
       "      <td>24.8</td>\n",
       "    </tr>\n",
       "    <tr>\n",
       "      <th>model year</th>\n",
       "      <td>398</td>\n",
       "      <td>76.010050</td>\n",
       "      <td>3.697627</td>\n",
       "      <td>70</td>\n",
       "      <td>73.000</td>\n",
       "      <td>76.0</td>\n",
       "      <td>79.000</td>\n",
       "      <td>82.0</td>\n",
       "    </tr>\n",
       "    <tr>\n",
       "      <th>origin</th>\n",
       "      <td>398</td>\n",
       "      <td>1.572864</td>\n",
       "      <td>0.802055</td>\n",
       "      <td>1</td>\n",
       "      <td>1.000</td>\n",
       "      <td>1.0</td>\n",
       "      <td>2.000</td>\n",
       "      <td>3.0</td>\n",
       "    </tr>\n",
       "  </tbody>\n",
       "</table>\n",
       "</div>"
      ],
      "text/plain": [
       "              count         mean         std   min       25%     50%  \\\n",
       "mpg             398    23.514573    7.815984     9    17.500    23.0   \n",
       "cylinders       398     5.454774    1.701004     3     4.000     4.0   \n",
       "displacement    398   193.425879  104.269838    68   104.250   148.5   \n",
       "weight          398  2970.424623  846.841774  1613  2223.750  2803.5   \n",
       "acceleration    398    15.568090    2.757689     8    13.825    15.5   \n",
       "model year      398    76.010050    3.697627    70    73.000    76.0   \n",
       "origin          398     1.572864    0.802055     1     1.000     1.0   \n",
       "\n",
       "                   75%     max  \n",
       "mpg             29.000    46.6  \n",
       "cylinders        8.000     8.0  \n",
       "displacement   262.000   455.0  \n",
       "weight        3608.000  5140.0  \n",
       "acceleration    17.175    24.8  \n",
       "model year      79.000    82.0  \n",
       "origin           2.000     3.0  "
      ]
     },
     "metadata": {},
     "output_type": "display_data"
    }
   ],
   "source": [
    "from IPython.core.display import display\n",
    "import pandas as pd\n",
    "cars = pd.read_pickle('cars.pkl')\n",
    "display(cars.head())\n",
    "display(cars.describe().T)"
   ]
  },
  {
   "cell_type": "markdown",
   "metadata": {},
   "source": [
    "we can separe the features from the target values using the following line of code"
   ]
  },
  {
   "cell_type": "code",
   "execution_count": 3,
   "metadata": {
    "collapsed": false
   },
   "outputs": [
    {
     "data": {
      "text/html": [
       "<div>\n",
       "<table border=\"1\" class=\"dataframe\">\n",
       "  <thead>\n",
       "    <tr style=\"text-align: right;\">\n",
       "      <th></th>\n",
       "      <th>mpg</th>\n",
       "      <th>cylinders</th>\n",
       "      <th>displacement</th>\n",
       "      <th>horsepower</th>\n",
       "      <th>weight</th>\n",
       "      <th>acceleration</th>\n",
       "      <th>model year</th>\n",
       "      <th>origin</th>\n",
       "    </tr>\n",
       "  </thead>\n",
       "  <tbody>\n",
       "    <tr>\n",
       "      <th>1</th>\n",
       "      <td>18</td>\n",
       "      <td>8</td>\n",
       "      <td>307</td>\n",
       "      <td>130.0</td>\n",
       "      <td>3504</td>\n",
       "      <td>12.0</td>\n",
       "      <td>70</td>\n",
       "      <td>1</td>\n",
       "    </tr>\n",
       "    <tr>\n",
       "      <th>2</th>\n",
       "      <td>15</td>\n",
       "      <td>8</td>\n",
       "      <td>350</td>\n",
       "      <td>165.0</td>\n",
       "      <td>3693</td>\n",
       "      <td>11.5</td>\n",
       "      <td>70</td>\n",
       "      <td>1</td>\n",
       "    </tr>\n",
       "    <tr>\n",
       "      <th>3</th>\n",
       "      <td>18</td>\n",
       "      <td>8</td>\n",
       "      <td>318</td>\n",
       "      <td>150.0</td>\n",
       "      <td>3436</td>\n",
       "      <td>11.0</td>\n",
       "      <td>70</td>\n",
       "      <td>1</td>\n",
       "    </tr>\n",
       "    <tr>\n",
       "      <th>4</th>\n",
       "      <td>16</td>\n",
       "      <td>8</td>\n",
       "      <td>304</td>\n",
       "      <td>150.0</td>\n",
       "      <td>3433</td>\n",
       "      <td>12.0</td>\n",
       "      <td>70</td>\n",
       "      <td>1</td>\n",
       "    </tr>\n",
       "    <tr>\n",
       "      <th>5</th>\n",
       "      <td>17</td>\n",
       "      <td>8</td>\n",
       "      <td>302</td>\n",
       "      <td>140.0</td>\n",
       "      <td>3449</td>\n",
       "      <td>10.5</td>\n",
       "      <td>70</td>\n",
       "      <td>1</td>\n",
       "    </tr>\n",
       "  </tbody>\n",
       "</table>\n",
       "</div>"
      ],
      "text/plain": [
       "   mpg  cylinders  displacement horsepower  weight  acceleration  model year  \\\n",
       "1   18          8           307      130.0    3504          12.0          70   \n",
       "2   15          8           350      165.0    3693          11.5          70   \n",
       "3   18          8           318      150.0    3436          11.0          70   \n",
       "4   16          8           304      150.0    3433          12.0          70   \n",
       "5   17          8           302      140.0    3449          10.5          70   \n",
       "\n",
       "   origin  \n",
       "1       1  \n",
       "2       1  \n",
       "3       1  \n",
       "4       1  \n",
       "5       1  "
      ]
     },
     "metadata": {},
     "output_type": "display_data"
    }
   ],
   "source": [
    "head_obs = cars.ix[:,:'origin'].head() # heah() function allows to display to top 5 values\n",
    "display(head_obs)"
   ]
  },
  {
   "cell_type": "markdown",
   "metadata": {},
   "source": [
    "We can get the first 10 rows of the data and convert them to a list of list. Notice that we are no longer using `head()` but we adopting slicing row 0 to 10 and all the columns before *origin*."
   ]
  },
  {
   "cell_type": "code",
   "execution_count": 4,
   "metadata": {
    "collapsed": false
   },
   "outputs": [
    {
     "data": {
      "text/plain": [
       "[[18.0, 8, 307.0, '130.0', 3504.0, 12.0, 70, 1],\n",
       " [15.0, 8, 350.0, '165.0', 3693.0, 11.5, 70, 1],\n",
       " [18.0, 8, 318.0, '150.0', 3436.0, 11.0, 70, 1],\n",
       " [16.0, 8, 304.0, '150.0', 3433.0, 12.0, 70, 1],\n",
       " [17.0, 8, 302.0, '140.0', 3449.0, 10.5, 70, 1],\n",
       " [15.0, 8, 429.0, '198.0', 4341.0, 10.0, 70, 1],\n",
       " [14.0, 8, 454.0, '220.0', 4354.0, 9.0, 70, 1],\n",
       " [14.0, 8, 440.0, '215.0', 4312.0, 8.5, 70, 1],\n",
       " [14.0, 8, 455.0, '225.0', 4425.0, 10.0, 70, 1],\n",
       " [15.0, 8, 390.0, '190.0', 3850.0, 8.5, 70, 1]]"
      ]
     },
     "metadata": {},
     "output_type": "display_data"
    }
   ],
   "source": [
    "head_obs_lst = cars.ix[0:10,:'origin'].values.tolist()\n",
    "display(head_obs_lst)"
   ]
  },
  {
   "cell_type": "markdown",
   "metadata": {},
   "source": [
    "We can head the labels for the first 10 rows as a list using the following line of code"
   ]
  },
  {
   "cell_type": "code",
   "execution_count": 5,
   "metadata": {
    "collapsed": false
   },
   "outputs": [
    {
     "data": {
      "text/plain": [
       "[['chevrolet chevelle malibu'],\n",
       " ['buick skylark 320'],\n",
       " ['plymouth satellite'],\n",
       " ['amc rebel sst'],\n",
       " ['ford torino'],\n",
       " ['ford galaxie 500'],\n",
       " ['chevrolet impala'],\n",
       " ['plymouth fury iii'],\n",
       " ['pontiac catalina'],\n",
       " ['amc ambassador dpl']]"
      ]
     },
     "metadata": {},
     "output_type": "display_data"
    }
   ],
   "source": [
    "labels = cars.ix[0:10,'car name':].values.tolist()\n",
    "display(labels)"
   ]
  },
  {
   "cell_type": "markdown",
   "metadata": {},
   "source": [
    "The exercise for you to split this car dataset into training set and testing set. You can try to code the separation of 70/30 using array slicing or you can refer to the [sklearn.cross_validation.train_test_split](http://scikit-learn.org/stable/modules/generated/sklearn.cross_validation.train_test_split.html) function. \n",
    "\n",
    "We are going to classify the cars **MPG** based on cylinders, displacement, horsepower, weight, acceleration, model year and origin\n",
    "\n",
    "After you have splitted the data, use the train a decision tree and test it using the testing data. What is the accuracy of the model ? "
   ]
  },
  {
   "cell_type": "markdown",
   "metadata": {},
   "source": [
    "## Reading \n",
    "1. Read chapter 2 of [ESL](http://statweb.stanford.edu/~tibs/ElemStatLearn/)\n",
    "2. Take a look at this [ressource](http://blog.kaggle.com/2015/04/22/scikit-learn-video-3-machine-learning-first-steps-with-the-iris-dataset/)"
   ]
  }
 ],
 "metadata": {
  "kernelspec": {
   "display_name": "Python 3",
   "language": "python",
   "name": "python3"
  },
  "language_info": {
   "codemirror_mode": {
    "name": "ipython",
    "version": 3
   },
   "file_extension": ".py",
   "mimetype": "text/x-python",
   "name": "python",
   "nbconvert_exporter": "python",
   "pygments_lexer": "ipython3",
   "version": "3.5.1"
  }
 },
 "nbformat": 4,
 "nbformat_minor": 0
}
